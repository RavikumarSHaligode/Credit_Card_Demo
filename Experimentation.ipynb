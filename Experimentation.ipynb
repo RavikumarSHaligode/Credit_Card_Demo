{
 "cells": [
  {
   "cell_type": "code",
   "execution_count": null,
   "id": "342edf21",
   "metadata": {},
   "outputs": [],
   "source": [
    "!pip install fosforml"
   ]
  },
  {
   "cell_type": "code",
   "execution_count": 1,
   "id": "85d89ea6",
   "metadata": {},
   "outputs": [],
   "source": [
    "import fosforml"
   ]
  },
  {
   "cell_type": "code",
   "execution_count": 2,
   "id": "947a3773",
   "metadata": {},
   "outputs": [],
   "source": [
    "from fosforml.model_manager.snowflakesession import get_session, get_connection_params\n",
    "\n",
    "session = get_session()\n",
    "connection_params = get_connection_params()"
   ]
  },
  {
   "cell_type": "code",
   "execution_count": 3,
   "id": "7512dbb9",
   "metadata": {},
   "outputs": [],
   "source": [
    "import getpass"
   ]
  },
  {
   "cell_type": "code",
   "execution_count": 4,
   "id": "b5f0c7db",
   "metadata": {
    "scrolled": true
   },
   "outputs": [
    {
     "name": "stdin",
     "output_type": "stream",
     "text": [
      " ········\n"
     ]
    }
   ],
   "source": [
    "password = getpass.getpass()"
   ]
  },
  {
   "cell_type": "code",
   "execution_count": 8,
   "id": "5e5a3858",
   "metadata": {},
   "outputs": [],
   "source": [
    "from snowflake.snowpark.session import Session\n",
    "\n",
    "def get_session():\n",
    "    \"\"\"\n",
    "    Method creates snowflake session object.\n",
    "    :return:\n",
    "    \"\"\"\n",
    "    try:\n",
    "        CONNECTION_PARAMETERS = {\n",
    "            \"account\": 'zqiseam-ltimosaic',\n",
    "            \"user\": 'RAVIKUMARHALIGODE',\n",
    "            \"password\": password,\n",
    "            \"role\": 'RAVIKUMARHALIGODE',\n",
    "            \"database\": 'RAVI_TESTING',\n",
    "            \"warehouse\": 'FOSFOR_INSIGHT_WH',\n",
    "            \"schema\": 'RAVI_TESTING'\n",
    "        }\n",
    "        return Session.builder.configs(CONNECTION_PARAMETERS).create()\n",
    "    except Exception as ex:\n",
    "        print(\"Error while creating snowflake session\", ex)\n",
    "        return ex\n",
    "\n",
    "session = get_session()\n",
    "# import pandas as pd\n",
    "# my_data = pd.read_csv('mlflow_sample_data 2.csv')\n",
    "# my_data.columns = map(lambda x: str(x).upper(), my_data.columns)\n",
    "# my_data.columns = my_data.columns.str.replace(' ', '_')\n",
    "# my_data = my_data.loc[:, ~my_data.columns.str.contains('^Unnamed')]\n",
    "# my_data.head()\n",
    "# session.write_pandas(my_data, table_name=\"mlflow_sample_data\", auto_create_table=True, overwrite=True)"
   ]
  },
  {
   "cell_type": "code",
   "execution_count": 9,
   "id": "3caf5886-2008-43f7-812c-c8f335aa355b",
   "metadata": {},
   "outputs": [
    {
     "name": "stdout",
     "output_type": "stream",
     "text": [
      "<snowflake.snowpark.session.Session: account=\"zqiseam-ltimosaic\", role=\"RAVIKUMARHALIGODE\", database=\"RAVI_TESTING\", schema=\"RAVI_TESTING\", warehouse=\"FOSFOR_INSIGHT_WH\">\n"
     ]
    }
   ],
   "source": [
    "print(session)"
   ]
  },
  {
   "cell_type": "code",
   "execution_count": null,
   "id": "ae81f3da",
   "metadata": {},
   "outputs": [],
   "source": [
    "\n",
    "TransformedEquipmentData"
   ]
  },
  {
   "cell_type": "code",
   "execution_count": null,
   "id": "4c6f52b8-e8c4-4c5e-8d5b-186af8414bee",
   "metadata": {},
   "outputs": [],
   "source": [
    "!pip install snowflake-connector-python"
   ]
  },
  {
   "cell_type": "code",
   "execution_count": null,
   "id": "8781b77e-640a-49ca-9b8c-41a57e533da0",
   "metadata": {},
   "outputs": [],
   "source": [
    "import os\n",
    "import snowflake.connector\n",
    "\n",
    "def get_login_token():\n",
    "    with open('/snowflake/session/token', 'r') as f:\n",
    "        return f.read()\n",
    "\n",
    "conn = snowflake.connector.connect(\n",
    "    host=\"https://fya62509.us-east-1.snowflakecomputing.com\",\n",
    "    account=\"RAVIKUMARHALIGODE\",\n",
    "    token=get_login_token(),\n",
    "    authenticator=\"oauth\",\n",
    "    database=\"RAVI_TESTING\",\n",
    "    schema=\"RAVI_TESTING\"\n",
    ")"
   ]
  },
  {
   "cell_type": "code",
   "execution_count": null,
   "id": "e6d1eca2-9862-45da-b5c6-eed058758454",
   "metadata": {},
   "outputs": [],
   "source": []
  }
 ],
 "metadata": {
  "kernelspec": {
   "display_name": "Python 3 (ipykernel)",
   "language": "python",
   "name": "python3"
  },
  "language_info": {
   "codemirror_mode": {
    "name": "ipython",
    "version": 3
   },
   "file_extension": ".py",
   "mimetype": "text/x-python",
   "name": "python",
   "nbconvert_exporter": "python",
   "pygments_lexer": "ipython3",
   "version": "3.9.19"
  }
 },
 "nbformat": 4,
 "nbformat_minor": 5
}
