{
 "cells": [
  {
   "cell_type": "code",
   "execution_count": null,
   "id": "342edf21",
   "metadata": {},
   "outputs": [],
   "source": [
    "!pip install fosforml"
   ]
  },
  {
   "cell_type": "code",
   "execution_count": 1,
   "id": "85d89ea6",
   "metadata": {},
   "outputs": [],
   "source": [
    "import fosforml"
   ]
  },
  {
   "cell_type": "code",
   "execution_count": 2,
   "id": "947a3773",
   "metadata": {},
   "outputs": [],
   "source": [
    "from fosforml.model_manager.snowflakesession import get_session, get_connection_params\n",
    "\n",
    "session = get_session()\n",
    "connection_params = get_connection_params()"
   ]
  },
  {
   "cell_type": "code",
   "execution_count": 3,
   "id": "7512dbb9",
   "metadata": {},
   "outputs": [],
   "source": [
    "import getpass"
   ]
  },
  {
   "cell_type": "code",
   "execution_count": 4,
   "id": "b5f0c7db",
   "metadata": {
    "scrolled": true
   },
   "outputs": [
    {
     "name": "stdin",
     "output_type": "stream",
     "text": [
      " ········\n"
     ]
    }
   ],
   "source": [
    "password = getpass.getpass()"
   ]
  },
  {
   "cell_type": "code",
   "execution_count": 18,
   "id": "5e5a3858",
   "metadata": {},
   "outputs": [
    {
     "data": {
      "text/plain": [
       "<snowflake.snowpark.table.Table at 0x7f709b54cb20>"
      ]
     },
     "execution_count": 18,
     "metadata": {},
     "output_type": "execute_result"
    }
   ],
   "source": [
    "from snowflake.snowpark.session import Session\n",
    "\n",
    "def get_session():\n",
    "    \"\"\"\n",
    "    Method creates snowflake session object.\n",
    "    :return:\n",
    "    \"\"\"\n",
    "    try:\n",
    "        CONNECTION_PARAMETERS = {\n",
    "            \"account\": 'zqiseam-ltimosaic',\n",
    "            \"user\": 'RAVIKUMARHALIGODE',\n",
    "            \"password\": password,\n",
    "            \"role\": 'RAVIKUMARHALIGODE',\n",
    "            \"database\": 'RAVI_TESTING',\n",
    "            \"warehouse\": 'FOSFOR_INSIGHT_WH',\n",
    "            \"schema\": 'RAVI_TESTING'\n",
    "        }\n",
    "        return Session.builder.configs(CONNECTION_PARAMETERS).create()\n",
    "    except Exception as ex:\n",
    "        print(\"Error while creating snowflake session\", ex)\n",
    "        return ex\n",
    "\n",
    "session = get_session()\n",
    "import pandas as pd\n",
    "daily_revenue = pd.read_csv('daily_revenue_combined.csv')\n",
    "daily_revenue.columns = map(lambda x: str(x).upper(), daily_revenue.columns)\n",
    "daily_revenue.columns = daily_revenue.columns.str.replace(' ', '_')\n",
    "daily_revenue = daily_revenue.loc[:, ~daily_revenue.columns.str.contains('^Unnamed')]\n",
    "daily_revenue.head()\n",
    "session.write_pandas(daily_revenue, table_name=\"DAILY_REVENUE\", auto_create_table=True, overwrite=True)"
   ]
  },
  {
   "cell_type": "code",
   "execution_count": 19,
   "id": "c756b922-d3c2-4505-9f47-401227fbd952",
   "metadata": {},
   "outputs": [
    {
     "data": {
      "text/plain": [
       "<snowflake.snowpark.table.Table at 0x7f709b54c370>"
      ]
     },
     "execution_count": 19,
     "metadata": {},
     "output_type": "execute_result"
    }
   ],
   "source": [
    "daily_revenue_by_product_combined = pd.read_csv('daily_revenue_by_product_combined.csv')\n",
    "daily_revenue_by_product_combined.columns = map(lambda x: str(x).upper(), daily_revenue_by_product_combined.columns)\n",
    "daily_revenue_by_product_combined.columns = daily_revenue_by_product_combined.columns.str.replace(' ', '_')\n",
    "daily_revenue_by_product_combined = daily_revenue_by_product_combined.loc[:, ~daily_revenue_by_product_combined.columns.str.contains('^Unnamed')]\n",
    "daily_revenue_by_product_combined.head()\n",
    "session.write_pandas(daily_revenue_by_product_combined, table_name=\"DAILY_REVENUE_BY_PRODUCT\", auto_create_table=True, overwrite=True)"
   ]
  },
  {
   "cell_type": "code",
   "execution_count": 20,
   "id": "6148a53b-e80a-4616-86ab-211e8a792dfc",
   "metadata": {},
   "outputs": [
    {
     "data": {
      "text/plain": [
       "<snowflake.snowpark.table.Table at 0x7f709b28a5b0>"
      ]
     },
     "execution_count": 20,
     "metadata": {},
     "output_type": "execute_result"
    }
   ],
   "source": [
    "daily_revenue_by_region_combined = pd.read_csv('daily_revenue_by_region_combined.csv')\n",
    "daily_revenue_by_region_combined.columns = map(lambda x: str(x).upper(), daily_revenue_by_region_combined.columns)\n",
    "daily_revenue_by_region_combined.columns = daily_revenue_by_region_combined.columns.str.replace(' ', '_')\n",
    "daily_revenue_by_region_combined = daily_revenue_by_region_combined.loc[:, ~daily_revenue_by_region_combined.columns.str.contains('^Unnamed')]\n",
    "daily_revenue_by_region_combined.head()\n",
    "session.write_pandas(daily_revenue_by_region_combined, table_name=\"DAILY_REVENUE_BY_REGION\", auto_create_table=True, overwrite=True)"
   ]
  },
  {
   "cell_type": "code",
   "execution_count": 24,
   "id": "25457872-bc1a-4e1c-860a-2ad25073eb64",
   "metadata": {},
   "outputs": [
    {
     "ename": "TypeError",
     "evalue": "put() got an unexpected keyword argument 'disable_compression'",
     "output_type": "error",
     "traceback": [
      "\u001b[0;31m---------------------------------------------------------------------------\u001b[0m",
      "\u001b[0;31mTypeError\u001b[0m                                 Traceback (most recent call last)",
      "Cell \u001b[0;32mIn[24], line 1\u001b[0m\n\u001b[0;32m----> 1\u001b[0m \u001b[43msession\u001b[49m\u001b[38;5;241;43m.\u001b[39;49m\u001b[43mfile\u001b[49m\u001b[38;5;241;43m.\u001b[39;49m\u001b[43mput\u001b[49m\u001b[43m(\u001b[49m\u001b[38;5;124;43m\"\u001b[39;49m\u001b[38;5;124;43mrevenue_timeseries.yaml\u001b[39;49m\u001b[38;5;124;43m\"\u001b[39;49m\u001b[43m,\u001b[49m\u001b[43m \u001b[49m\u001b[38;5;124;43m\"\u001b[39;49m\u001b[38;5;124;43m@RAVI_TESTING/revenue_timeseries.yaml\u001b[39;49m\u001b[38;5;124;43m\"\u001b[39;49m\u001b[43m,\u001b[49m\u001b[43m \u001b[49m\u001b[43mdisable_compression\u001b[49m\u001b[38;5;241;43m=\u001b[39;49m\u001b[38;5;28;43;01mTrue\u001b[39;49;00m\u001b[43m)\u001b[49m\n",
      "\u001b[0;31mTypeError\u001b[0m: put() got an unexpected keyword argument 'disable_compression'"
     ]
    }
   ],
   "source": [
    "session.file.put(\"revenue_timeseries.yaml\", \"@RAVI_TESTING/revenue_timeseries.yaml\", disable_compression=True)"
   ]
  },
  {
   "cell_type": "code",
   "execution_count": null,
   "id": "b2f58b7a-67db-44da-81f9-580e1e2e741c",
   "metadata": {},
   "outputs": [],
   "source": []
  }
 ],
 "metadata": {
  "kernelspec": {
   "display_name": "Python 3 (ipykernel)",
   "language": "python",
   "name": "python3"
  },
  "language_info": {
   "codemirror_mode": {
    "name": "ipython",
    "version": 3
   },
   "file_extension": ".py",
   "mimetype": "text/x-python",
   "name": "python",
   "nbconvert_exporter": "python",
   "pygments_lexer": "ipython3",
   "version": "3.9.19"
  }
 },
 "nbformat": 4,
 "nbformat_minor": 5
}
