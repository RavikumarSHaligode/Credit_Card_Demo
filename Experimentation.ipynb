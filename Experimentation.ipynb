{
 "cells": [
  {
   "cell_type": "code",
   "execution_count": null,
   "id": "342edf21",
   "metadata": {},
   "outputs": [],
   "source": [
    "!pip install fosforml"
   ]
  },
  {
   "cell_type": "code",
   "execution_count": 1,
   "id": "85d89ea6",
   "metadata": {},
   "outputs": [],
   "source": [
    "import fosforml"
   ]
  },
  {
   "cell_type": "code",
   "execution_count": 2,
   "id": "947a3773",
   "metadata": {},
   "outputs": [],
   "source": [
    "from fosforml.model_manager.snowflakesession import get_session, get_connection_params\n",
    "\n",
    "session = get_session()\n",
    "connection_params = get_connection_params()"
   ]
  },
  {
   "cell_type": "code",
   "execution_count": 3,
   "id": "7512dbb9",
   "metadata": {},
   "outputs": [],
   "source": [
    "import getpass"
   ]
  },
  {
   "cell_type": "code",
   "execution_count": 4,
   "id": "b5f0c7db",
   "metadata": {
    "scrolled": true
   },
   "outputs": [
    {
     "name": "stdin",
     "output_type": "stream",
     "text": [
      " ········\n"
     ]
    }
   ],
   "source": [
    "password = getpass.getpass()"
   ]
  },
  {
   "cell_type": "code",
   "execution_count": 8,
   "id": "5e5a3858",
   "metadata": {},
   "outputs": [
    {
     "name": "stdout",
     "output_type": "stream",
     "text": [
      "Error while creating snowflake session 250001 (08001): Failed to connect to DB: fya62509.us-east-1.snowflakecomputing.com:443. Error connecting to Snowflake via Snowpark Container Services. Please use OAuth when connecting to Snowflake. For more information please refer to https://docs.snowflake.com/en/developer-guide/snowpark-container-services/additional-considerations-services-jobs#connecting-to-snowflake-from-inside-a-container.\n"
     ]
    }
   ],
   "source": [
    "from snowflake.snowpark.session import Session\n",
    "\n",
    "def get_session():\n",
    "    \"\"\"\n",
    "    Method creates snowflake session object.\n",
    "    :return:\n",
    "    \"\"\"\n",
    "    try:\n",
    "        CONNECTION_PARAMETERS = {\n",
    "            \"account\": 'fya62509.us-east-1',\n",
    "            \"user\": 'RAVIKUMARHALIGODE',\n",
    "            \"password\": password,\n",
    "            \"role\": 'RAVIKUMARHALIGODE',\n",
    "            \"database\": 'RAVI_TESTING',\n",
    "            \"warehouse\": 'FOSFOR_INSIGHT_WH',\n",
    "            \"schema\": 'RAVI_TESTING'\n",
    "        }\n",
    "        return Session.builder.configs(CONNECTION_PARAMETERS).create()\n",
    "    except Exception as ex:\n",
    "        print(\"Error while creating snowflake session\", ex)\n",
    "        return ex\n",
    "\n",
    "session = get_session()\n",
    "# import pandas as pd\n",
    "# my_data = pd.read_csv('mlflow_sample_data 2.csv')\n",
    "# my_data.columns = map(lambda x: str(x).upper(), my_data.columns)\n",
    "# my_data.columns = my_data.columns.str.replace(' ', '_')\n",
    "# my_data = my_data.loc[:, ~my_data.columns.str.contains('^Unnamed')]\n",
    "# my_data.head()\n",
    "# session.write_pandas(my_data, table_name=\"mlflow_sample_data\", auto_create_table=True, overwrite=True)"
   ]
  },
  {
   "cell_type": "code",
   "execution_count": 9,
   "id": "3fa414ef-cd1a-4fec-bdf3-07abe9b70bcb",
   "metadata": {},
   "outputs": [],
   "source": [
    "SNOWFLAKE_ACCOUNT = \"fya62509\"\n",
    "SNOWFLAKE_HOST = \"fya62509.us-east-1.snowflakecomputing.com\""
   ]
  },
  {
   "cell_type": "code",
   "execution_count": 12,
   "id": "7e6d5611-dfa3-4d56-bca9-2a99a4178ecb",
   "metadata": {},
   "outputs": [
    {
     "ename": "NameError",
     "evalue": "name 'snowflake' is not defined",
     "output_type": "error",
     "traceback": [
      "\u001b[0;31m---------------------------------------------------------------------------\u001b[0m",
      "\u001b[0;31mNameError\u001b[0m                                 Traceback (most recent call last)",
      "Cell \u001b[0;32mIn[12], line 5\u001b[0m\n\u001b[1;32m      2\u001b[0m  \u001b[38;5;28;01mwith\u001b[39;00m \u001b[38;5;28mopen\u001b[39m(\u001b[38;5;124m'\u001b[39m\u001b[38;5;124m/snowflake/session/token\u001b[39m\u001b[38;5;124m'\u001b[39m, \u001b[38;5;124m'\u001b[39m\u001b[38;5;124mr\u001b[39m\u001b[38;5;124m'\u001b[39m) \u001b[38;5;28;01mas\u001b[39;00m f:\n\u001b[1;32m      3\u001b[0m      \u001b[38;5;28;01mreturn\u001b[39;00m f\u001b[38;5;241m.\u001b[39mread()\n\u001b[0;32m----> 5\u001b[0m conn \u001b[38;5;241m=\u001b[39m \u001b[43msnowflake\u001b[49m\u001b[38;5;241m.\u001b[39mconnector\u001b[38;5;241m.\u001b[39mconnect(\n\u001b[1;32m      6\u001b[0m   host \u001b[38;5;241m=\u001b[39m os\u001b[38;5;241m.\u001b[39mgetenv(\u001b[38;5;124m'\u001b[39m\u001b[38;5;124mSNOWFLAKE_HOST\u001b[39m\u001b[38;5;124m'\u001b[39m),\n\u001b[1;32m      7\u001b[0m   account \u001b[38;5;241m=\u001b[39m os\u001b[38;5;241m.\u001b[39mgetenv(\u001b[38;5;124m'\u001b[39m\u001b[38;5;124mSNOWFLAKE_ACCOUNT\u001b[39m\u001b[38;5;124m'\u001b[39m),\n\u001b[1;32m      8\u001b[0m   token \u001b[38;5;241m=\u001b[39m get_login_token(),\n\u001b[1;32m      9\u001b[0m   authenticator \u001b[38;5;241m=\u001b[39m \u001b[38;5;124m'\u001b[39m\u001b[38;5;124moauth\u001b[39m\u001b[38;5;124m'\u001b[39m\n\u001b[1;32m     10\u001b[0m )\n",
      "\u001b[0;31mNameError\u001b[0m: name 'snowflake' is not defined"
     ]
    }
   ],
   "source": [
    "def get_login_token():\n",
    " with open('/snowflake/session/token', 'r') as f:\n",
    "     return f.read()\n",
    "\n",
    "conn = snowflake.connector.connect(\n",
    "  host = os.getenv('SNOWFLAKE_HOST'),\n",
    "  account = os.getenv('SNOWFLAKE_ACCOUNT'),\n",
    "  token = get_login_token(),\n",
    "  authenticator = 'oauth'\n",
    ")"
   ]
  },
  {
   "cell_type": "code",
   "execution_count": 13,
   "id": "c6322804-a3df-4841-82b3-b0c21f6987a1",
   "metadata": {},
   "outputs": [
    {
     "ename": "NameError",
     "evalue": "name 'snowflake' is not defined",
     "output_type": "error",
     "traceback": [
      "\u001b[0;31m---------------------------------------------------------------------------\u001b[0m",
      "\u001b[0;31mNameError\u001b[0m                                 Traceback (most recent call last)",
      "Cell \u001b[0;32mIn[13], line 1\u001b[0m\n\u001b[0;32m----> 1\u001b[0m conn \u001b[38;5;241m=\u001b[39m \u001b[43msnowflake\u001b[49m\u001b[38;5;241m.\u001b[39mconnector\u001b[38;5;241m.\u001b[39mconnect(\n\u001b[1;32m      2\u001b[0m   account \u001b[38;5;241m=\u001b[39m os\u001b[38;5;241m.\u001b[39mgetenv(\u001b[38;5;124m'\u001b[39m\u001b[38;5;124mSNOWFLAKE_ACCOUNT\u001b[39m\u001b[38;5;124m'\u001b[39m),\n\u001b[1;32m      3\u001b[0m   user \u001b[38;5;241m=\u001b[39m \u001b[38;5;124m'\u001b[39m\u001b[38;5;124mRAVIKUMARHALIGODE\u001b[39m\u001b[38;5;124m'\u001b[39m,\n\u001b[1;32m      4\u001b[0m   password \u001b[38;5;241m=\u001b[39m \u001b[38;5;124m'\u001b[39m\u001b[38;5;124mKayakave@1983\u001b[39m\u001b[38;5;124m'\u001b[39m\n\u001b[1;32m      5\u001b[0m )\n",
      "\u001b[0;31mNameError\u001b[0m: name 'snowflake' is not defined"
     ]
    }
   ],
   "source": [
    "conn = snowflake.connector.connect(\n",
    "  account = os.getenv('SNOWFLAKE_ACCOUNT'),\n",
    "  user = 'RAVIKUMARHALIGODE',\n",
    "  password = 'Kayakave@1983'\n",
    ")"
   ]
  },
  {
   "cell_type": "code",
   "execution_count": null,
   "id": "ae81f3da",
   "metadata": {},
   "outputs": [],
   "source": [
    "\n",
    "TransformedEquipmentData"
   ]
  }
 ],
 "metadata": {
  "kernelspec": {
   "display_name": "Python 3 (ipykernel)",
   "language": "python",
   "name": "python3"
  },
  "language_info": {
   "codemirror_mode": {
    "name": "ipython",
    "version": 3
   },
   "file_extension": ".py",
   "mimetype": "text/x-python",
   "name": "python",
   "nbconvert_exporter": "python",
   "pygments_lexer": "ipython3",
   "version": "3.9.19"
  }
 },
 "nbformat": 4,
 "nbformat_minor": 5
}
